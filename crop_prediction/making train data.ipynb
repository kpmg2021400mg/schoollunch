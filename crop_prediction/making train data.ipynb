{
 "cells": [
  {
   "cell_type": "code",
   "execution_count": 1,
   "metadata": {},
   "outputs": [],
   "source": [
    "import pandas as pd"
   ]
  },
  {
   "cell_type": "code",
   "execution_count": 2,
   "metadata": {
    "scrolled": true
   },
   "outputs": [],
   "source": [
    "price = pd.read_csv('import.csv')\n",
    "jeju = pd.read_csv('jeju1719.csv')\n",
    "gwangju = pd.read_csv('gwangju1719.csv')\n",
    "choonchun = pd.read_csv('choonchun1719.csv')"
   ]
  },
  {
   "cell_type": "code",
   "execution_count": 3,
   "metadata": {},
   "outputs": [],
   "source": [
    "price['target_value'] = price['target_value'].apply(lambda x: x.replace(',', ''))\n",
    "price['30avg'] = price['30avg'].apply(lambda x: x.replace(',', ''))"
   ]
  },
  {
   "cell_type": "code",
   "execution_count": 4,
   "metadata": {},
   "outputs": [],
   "source": [
    "price['item_id'] = price['item_id'].astype('str')\n",
    "price['timestamp'] = price['timestamp'].astype(str)\n",
    "price['target_value'] = price['target_value'].astype(float)\n",
    "price['30avg'] = price['30avg'].astype(float)"
   ]
  },
  {
   "cell_type": "code",
   "execution_count": 16,
   "metadata": {},
   "outputs": [
    {
     "name": "stdout",
     "output_type": "stream",
     "text": [
      "<class 'pandas.core.frame.DataFrame'>\n",
      "RangeIndex: 3665 entries, 0 to 3664\n",
      "Data columns (total 5 columns):\n",
      " #   Column        Non-Null Count  Dtype  \n",
      "---  ------        --------------  -----  \n",
      " 0   item_id       3665 non-null   object \n",
      " 1   timestamp     3665 non-null   object \n",
      " 2   target_value  3665 non-null   float64\n",
      " 3   30avg         3665 non-null   float64\n",
      " 4   gas_price     3661 non-null   float64\n",
      "dtypes: float64(3), object(2)\n",
      "memory usage: 143.3+ KB\n"
     ]
    }
   ],
   "source": [
    "price.info()"
   ]
  },
  {
   "cell_type": "code",
   "execution_count": 5,
   "metadata": {},
   "outputs": [
    {
     "data": {
      "text/plain": [
       "item_id          object\n",
       "timestamp        object\n",
       "target_value    float64\n",
       "30avg           float64\n",
       "gas_price       float64\n",
       "dtype: object"
      ]
     },
     "execution_count": 5,
     "metadata": {},
     "output_type": "execute_result"
    }
   ],
   "source": [
    "price.dtypes"
   ]
  },
  {
   "cell_type": "code",
   "execution_count": 6,
   "metadata": {},
   "outputs": [],
   "source": [
    "is_carrot = price['item_id'] == 'carrot'\n",
    "carrot = price[is_carrot]\n",
    "is_cucumber = price['item_id'] == 'cucumber'\n",
    "cucumber = price[is_cucumber]\n",
    "is_onion = price['item_id'] == 'onion'\n",
    "onion = price[is_onion]\n",
    "is_radish = price['item_id'] == 'radish'\n",
    "radish = price[is_radish]\n",
    "is_springonion = price['item_id'] == 'springonion'\n",
    "springonion = price[is_springonion]"
   ]
  },
  {
   "cell_type": "code",
   "execution_count": 7,
   "metadata": {},
   "outputs": [],
   "source": [
    "jeju = jeju.fillna(0)\n",
    "choonchun = choonchun.fillna(0)\n",
    "gwangju = gwangju.fillna(0)"
   ]
  },
  {
   "cell_type": "code",
   "execution_count": 8,
   "metadata": {},
   "outputs": [],
   "source": [
    "carrot1 = carrot.merge(jeju)\n",
    "cucumber1 = cucumber.merge(choonchun)\n",
    "onion1 = onion.merge(gwangju)\n",
    "radish1 = radish.merge(choonchun)\n",
    "springonion1 = springonion.merge(gwangju)"
   ]
  },
  {
   "cell_type": "code",
   "execution_count": 9,
   "metadata": {},
   "outputs": [
    {
     "data": {
      "text/html": [
       "<div>\n",
       "<style scoped>\n",
       "    .dataframe tbody tr th:only-of-type {\n",
       "        vertical-align: middle;\n",
       "    }\n",
       "\n",
       "    .dataframe tbody tr th {\n",
       "        vertical-align: top;\n",
       "    }\n",
       "\n",
       "    .dataframe thead th {\n",
       "        text-align: right;\n",
       "    }\n",
       "</style>\n",
       "<table border=\"1\" class=\"dataframe\">\n",
       "  <thead>\n",
       "    <tr style=\"text-align: right;\">\n",
       "      <th></th>\n",
       "      <th>item_id</th>\n",
       "      <th>timestamp</th>\n",
       "      <th>target_value</th>\n",
       "      <th>30avg</th>\n",
       "      <th>gas_price</th>\n",
       "      <th>lowtemp</th>\n",
       "      <th>hightemp</th>\n",
       "      <th>precipation</th>\n",
       "      <th>highwind</th>\n",
       "      <th>avgwind</th>\n",
       "      <th>humidity</th>\n",
       "      <th>totalsun</th>\n",
       "      <th>abvgrnd</th>\n",
       "    </tr>\n",
       "  </thead>\n",
       "  <tbody>\n",
       "    <tr>\n",
       "      <th>0</th>\n",
       "      <td>carrot</td>\n",
       "      <td>2017-01-02</td>\n",
       "      <td>27000.0</td>\n",
       "      <td>41933.0</td>\n",
       "      <td>845.49</td>\n",
       "      <td>9.8</td>\n",
       "      <td>13.8</td>\n",
       "      <td>0.9</td>\n",
       "      <td>3.3</td>\n",
       "      <td>1.6</td>\n",
       "      <td>79.6</td>\n",
       "      <td>0.1</td>\n",
       "      <td>10.6</td>\n",
       "    </tr>\n",
       "    <tr>\n",
       "      <th>1</th>\n",
       "      <td>carrot</td>\n",
       "      <td>2017-01-03</td>\n",
       "      <td>25000.0</td>\n",
       "      <td>41933.0</td>\n",
       "      <td>845.49</td>\n",
       "      <td>6.9</td>\n",
       "      <td>11.7</td>\n",
       "      <td>0.0</td>\n",
       "      <td>4.0</td>\n",
       "      <td>2.2</td>\n",
       "      <td>66.8</td>\n",
       "      <td>8.7</td>\n",
       "      <td>8.4</td>\n",
       "    </tr>\n",
       "    <tr>\n",
       "      <th>2</th>\n",
       "      <td>carrot</td>\n",
       "      <td>2017-01-04</td>\n",
       "      <td>25000.0</td>\n",
       "      <td>41667.0</td>\n",
       "      <td>845.49</td>\n",
       "      <td>6.0</td>\n",
       "      <td>12.2</td>\n",
       "      <td>0.0</td>\n",
       "      <td>3.1</td>\n",
       "      <td>1.9</td>\n",
       "      <td>64.5</td>\n",
       "      <td>7.9</td>\n",
       "      <td>7.6</td>\n",
       "    </tr>\n",
       "    <tr>\n",
       "      <th>3</th>\n",
       "      <td>carrot</td>\n",
       "      <td>2017-01-05</td>\n",
       "      <td>25000.0</td>\n",
       "      <td>41200.0</td>\n",
       "      <td>845.49</td>\n",
       "      <td>8.4</td>\n",
       "      <td>13.5</td>\n",
       "      <td>9.8</td>\n",
       "      <td>5.9</td>\n",
       "      <td>2.4</td>\n",
       "      <td>78.5</td>\n",
       "      <td>0.0</td>\n",
       "      <td>9.7</td>\n",
       "    </tr>\n",
       "    <tr>\n",
       "      <th>4</th>\n",
       "      <td>carrot</td>\n",
       "      <td>2017-01-06</td>\n",
       "      <td>25000.0</td>\n",
       "      <td>40667.0</td>\n",
       "      <td>845.49</td>\n",
       "      <td>10.4</td>\n",
       "      <td>13.6</td>\n",
       "      <td>2.0</td>\n",
       "      <td>5.9</td>\n",
       "      <td>3.1</td>\n",
       "      <td>70.9</td>\n",
       "      <td>4.4</td>\n",
       "      <td>10.6</td>\n",
       "    </tr>\n",
       "    <tr>\n",
       "      <th>...</th>\n",
       "      <td>...</td>\n",
       "      <td>...</td>\n",
       "      <td>...</td>\n",
       "      <td>...</td>\n",
       "      <td>...</td>\n",
       "      <td>...</td>\n",
       "      <td>...</td>\n",
       "      <td>...</td>\n",
       "      <td>...</td>\n",
       "      <td>...</td>\n",
       "      <td>...</td>\n",
       "      <td>...</td>\n",
       "      <td>...</td>\n",
       "    </tr>\n",
       "    <tr>\n",
       "      <th>726</th>\n",
       "      <td>cucumber</td>\n",
       "      <td>2018-12-27</td>\n",
       "      <td>60000.0</td>\n",
       "      <td>71333.0</td>\n",
       "      <td>967.57</td>\n",
       "      <td>-5.4</td>\n",
       "      <td>0.6</td>\n",
       "      <td>0.0</td>\n",
       "      <td>4.9</td>\n",
       "      <td>3.1</td>\n",
       "      <td>45.3</td>\n",
       "      <td>8.7</td>\n",
       "      <td>0.0</td>\n",
       "    </tr>\n",
       "    <tr>\n",
       "      <th>727</th>\n",
       "      <td>cucumber</td>\n",
       "      <td>2018-12-28</td>\n",
       "      <td>50000.0</td>\n",
       "      <td>72956.0</td>\n",
       "      <td>967.57</td>\n",
       "      <td>-16.4</td>\n",
       "      <td>-5.4</td>\n",
       "      <td>0.0</td>\n",
       "      <td>2.4</td>\n",
       "      <td>1.2</td>\n",
       "      <td>51.5</td>\n",
       "      <td>7.9</td>\n",
       "      <td>-7.6</td>\n",
       "    </tr>\n",
       "    <tr>\n",
       "      <th>728</th>\n",
       "      <td>cucumber</td>\n",
       "      <td>2018-12-28</td>\n",
       "      <td>50000.0</td>\n",
       "      <td>72956.0</td>\n",
       "      <td>967.57</td>\n",
       "      <td>-7.0</td>\n",
       "      <td>-1.3</td>\n",
       "      <td>0.0</td>\n",
       "      <td>4.5</td>\n",
       "      <td>2.1</td>\n",
       "      <td>59.3</td>\n",
       "      <td>5.7</td>\n",
       "      <td>-2.5</td>\n",
       "    </tr>\n",
       "    <tr>\n",
       "      <th>729</th>\n",
       "      <td>cucumber</td>\n",
       "      <td>2018-12-29</td>\n",
       "      <td>50000.0</td>\n",
       "      <td>73111.0</td>\n",
       "      <td>967.57</td>\n",
       "      <td>-16.4</td>\n",
       "      <td>-2.2</td>\n",
       "      <td>0.0</td>\n",
       "      <td>3.4</td>\n",
       "      <td>1.4</td>\n",
       "      <td>48.5</td>\n",
       "      <td>7.9</td>\n",
       "      <td>-7.2</td>\n",
       "    </tr>\n",
       "    <tr>\n",
       "      <th>730</th>\n",
       "      <td>cucumber</td>\n",
       "      <td>2018-12-29</td>\n",
       "      <td>50000.0</td>\n",
       "      <td>73111.0</td>\n",
       "      <td>967.57</td>\n",
       "      <td>-7.0</td>\n",
       "      <td>0.8</td>\n",
       "      <td>0.0</td>\n",
       "      <td>5.8</td>\n",
       "      <td>2.3</td>\n",
       "      <td>57.6</td>\n",
       "      <td>9.0</td>\n",
       "      <td>-2.6</td>\n",
       "    </tr>\n",
       "  </tbody>\n",
       "</table>\n",
       "<p>1235 rows × 13 columns</p>\n",
       "</div>"
      ],
      "text/plain": [
       "      item_id   timestamp  target_value    30avg  gas_price  lowtemp  \\\n",
       "0      carrot  2017-01-02       27000.0  41933.0     845.49      9.8   \n",
       "1      carrot  2017-01-03       25000.0  41933.0     845.49      6.9   \n",
       "2      carrot  2017-01-04       25000.0  41667.0     845.49      6.0   \n",
       "3      carrot  2017-01-05       25000.0  41200.0     845.49      8.4   \n",
       "4      carrot  2017-01-06       25000.0  40667.0     845.49     10.4   \n",
       "..        ...         ...           ...      ...        ...      ...   \n",
       "726  cucumber  2018-12-27       60000.0  71333.0     967.57     -5.4   \n",
       "727  cucumber  2018-12-28       50000.0  72956.0     967.57    -16.4   \n",
       "728  cucumber  2018-12-28       50000.0  72956.0     967.57     -7.0   \n",
       "729  cucumber  2018-12-29       50000.0  73111.0     967.57    -16.4   \n",
       "730  cucumber  2018-12-29       50000.0  73111.0     967.57     -7.0   \n",
       "\n",
       "     hightemp  precipation  highwind  avgwind  humidity  totalsun  abvgrnd  \n",
       "0        13.8          0.9       3.3      1.6      79.6       0.1     10.6  \n",
       "1        11.7          0.0       4.0      2.2      66.8       8.7      8.4  \n",
       "2        12.2          0.0       3.1      1.9      64.5       7.9      7.6  \n",
       "3        13.5          9.8       5.9      2.4      78.5       0.0      9.7  \n",
       "4        13.6          2.0       5.9      3.1      70.9       4.4     10.6  \n",
       "..        ...          ...       ...      ...       ...       ...      ...  \n",
       "726       0.6          0.0       4.9      3.1      45.3       8.7      0.0  \n",
       "727      -5.4          0.0       2.4      1.2      51.5       7.9     -7.6  \n",
       "728      -1.3          0.0       4.5      2.1      59.3       5.7     -2.5  \n",
       "729      -2.2          0.0       3.4      1.4      48.5       7.9     -7.2  \n",
       "730       0.8          0.0       5.8      2.3      57.6       9.0     -2.6  \n",
       "\n",
       "[1235 rows x 13 columns]"
      ]
     },
     "execution_count": 9,
     "metadata": {},
     "output_type": "execute_result"
    }
   ],
   "source": [
    "train1 = pd.concat([carrot1, cucumber1])\n",
    "train1"
   ]
  },
  {
   "cell_type": "code",
   "execution_count": 10,
   "metadata": {},
   "outputs": [],
   "source": [
    "train2 = pd.concat([train1, onion1])\n",
    "train3 = pd.concat([train2, radish1])\n",
    "train = pd.concat([train3, springonion1])"
   ]
  },
  {
   "cell_type": "code",
   "execution_count": 11,
   "metadata": {
    "scrolled": true
   },
   "outputs": [],
   "source": [
    "fin = pd.DataFrame(train)"
   ]
  },
  {
   "cell_type": "code",
   "execution_count": 15,
   "metadata": {},
   "outputs": [
    {
     "data": {
      "text/plain": [
       "item_id          object\n",
       "timestamp        object\n",
       "target_value    float64\n",
       "30avg           float64\n",
       "gas_price       float64\n",
       "lowtemp         float64\n",
       "hightemp        float64\n",
       "precipation     float64\n",
       "highwind        float64\n",
       "avgwind         float64\n",
       "humidity        float64\n",
       "totalsun        float64\n",
       "abvgrnd         float64\n",
       "dtype: object"
      ]
     },
     "execution_count": 15,
     "metadata": {},
     "output_type": "execute_result"
    }
   ],
   "source": [
    "fin.dtypes"
   ]
  },
  {
   "cell_type": "code",
   "execution_count": 13,
   "metadata": {},
   "outputs": [],
   "source": [
    "train.to_csv('C:/Users/HyeJee Yang/Desktop/school/train.csv')"
   ]
  },
  {
   "cell_type": "code",
   "execution_count": 14,
   "metadata": {},
   "outputs": [
    {
     "data": {
      "text/plain": [
       "item_id          object\n",
       "timestamp        object\n",
       "target_value    float64\n",
       "30avg           float64\n",
       "gas_price       float64\n",
       "lowtemp         float64\n",
       "hightemp        float64\n",
       "precipation     float64\n",
       "highwind        float64\n",
       "avgwind         float64\n",
       "humidity        float64\n",
       "totalsun        float64\n",
       "abvgrnd         float64\n",
       "dtype: object"
      ]
     },
     "execution_count": 14,
     "metadata": {},
     "output_type": "execute_result"
    }
   ],
   "source": [
    "train.dtypes"
   ]
  }
 ],
 "metadata": {
  "kernelspec": {
   "display_name": "Python 3",
   "language": "python",
   "name": "python3"
  },
  "language_info": {
   "codemirror_mode": {
    "name": "ipython",
    "version": 3
   },
   "file_extension": ".py",
   "mimetype": "text/x-python",
   "name": "python",
   "nbconvert_exporter": "python",
   "pygments_lexer": "ipython3",
   "version": "3.7.3"
  }
 },
 "nbformat": 4,
 "nbformat_minor": 4
}
